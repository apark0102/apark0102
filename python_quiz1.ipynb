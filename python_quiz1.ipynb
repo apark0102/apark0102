{
  "cells": [
    {
      "cell_type": "markdown",
      "metadata": {
        "id": "Y7LbGkJgPwQI"
      },
      "source": [
        "The content of the following cell install the pywars client into this notebook. It must be executed once during the lifetime of a notebooks execution.  If you save and reopen the notebook you will need to execute again, but otherwise you only need to run it once."
      ]
    },
    {
      "cell_type": "code",
      "execution_count": null,
      "metadata": {
        "id": "WCYPuBQal45D"
      },
      "outputs": [],
      "source": [
        "#Import and/or install the pywars client\n",
        "!git clone --branch version5 https://github.com/markbaggett/pyWars\n",
        "!pip install ./pyWars\n",
        "\n",
        "#Mount the google drive in colab\n",
        "from google.colab import drive\n",
        "drive.mount('/content/drive')\n"
      ]
    },
    {
      "cell_type": "markdown",
      "metadata": {
        "id": "V9zGApf2QOZD"
      },
      "source": [
        "This next command must be run once to configure your pyWars server and to login.  Be sure to put your username and password in the .login() function.  Before running this you must change the contents of the three variables below to reflect your account information provided by SANS.\n"
      ]
    },
    {
      "cell_type": "code",
      "execution_count": null,
      "metadata": {
        "id": "zeiJWbS0N5Ih"
      },
      "outputs": [],
      "source": [
        "#Set the following three variables and execute this cell\n",
        "HOSTNAME = \"Host Name Here\"\n",
        "USERNAME = \"your login here\"\n",
        "PASSWORD = \"your password here\"\n",
        "\n",
        "#This will create your pywars client object and store in the variable d\n",
        "import pywars\n",
        "d = pywars.Client(f\"https://{HOSTNAME}:10000\")\n",
        "d.file_location=\"/content/drive/MyDrive\"\n",
        "d.login(USERNAME,PASSWORD)\n"
      ]
    },
    {
      "cell_type": "markdown",
      "metadata": {
        "id": "ukYlNTiV1uHF"
      },
      "source": [
        "In this lab you will complete all of the labs that have \"quiz1\" in the name.  The next cell uses a for loop to print just those with \"quiz1\" in the name. Run it to see a list of all of the challenge you must complete."
      ]
    },
    {
      "cell_type": "code",
      "execution_count": 15,
      "metadata": {
        "id": "Iea43FE9Q8BN",
        "outputId": "58dc6e5c-c370-4780-fbec-76142baee2a5",
        "colab": {
          "base_uri": "https://localhost:8080/"
        }
      },
      "outputs": [
        {
          "output_type": "stream",
          "name": "stdout",
          "text": [
            "You must complete quiz1.00\n",
            "You must complete quiz1.01\n",
            "You must complete quiz1.02\n",
            "You must complete quiz1.03\n",
            "You must complete quiz1.04\n",
            "You must complete quiz1.05\n",
            "You must complete quiz1.06\n",
            "You must complete quiz1.07\n",
            "You must complete quiz1.08\n",
            "You must complete quiz1.09\n"
          ]
        }
      ],
      "source": [
        "for each_name in d.names:\n",
        "    if each_name.startswith(\"quiz1\"):\n",
        "        print(f\"You must complete {each_name}\")"
      ]
    },
    {
      "cell_type": "markdown",
      "metadata": {
        "id": "SIEl6p0v1uHG"
      },
      "source": [
        "# **WARNING**\n",
        "## These are quiz questions. You can only submit `.answer()` once per question. Read the question carefully. Your ability to follow instructions and use Python to submit answers is part of the grade. If you accidentally submit an incorrect answer, it is wrong."
      ]
    },
    {
      "cell_type": "code",
      "execution_count": 56,
      "metadata": {
        "id": "JlOtXN3LONEy",
        "outputId": "1645016a-9da0-4c28-d118-913196442f30",
        "colab": {
          "base_uri": "https://localhost:8080/",
          "height": 246
        }
      },
      "outputs": [
        {
          "output_type": "display_data",
          "data": {
            "text/plain": [
              "┏━━━━┳━━━━━━━━━━┳━━━━━━━━┳━━━━━━━━━━━┳━━━━━━━━━━┳━━━━━━━━━━━━━━━┓\n",
              "┃\u001b[1m \u001b[0m\u001b[1m# \u001b[0m\u001b[1m \u001b[0m┃\u001b[1m \u001b[0m\u001b[1mQuestion\u001b[0m\u001b[1m \u001b[0m┃\u001b[1m \u001b[0m\u001b[1mPoints\u001b[0m\u001b[1m \u001b[0m┃\u001b[1m \u001b[0m\u001b[1mTimeout  \u001b[0m\u001b[1m \u001b[0m┃\u001b[1m \u001b[0m\u001b[1mAttempts\u001b[0m\u001b[1m \u001b[0m┃\u001b[1m \u001b[0m\u001b[1mPrerequisites\u001b[0m\u001b[1m \u001b[0m┃\n",
              "┡━━━━╇━━━━━━━━━━╇━━━━━━━━╇━━━━━━━━━━━╇━━━━━━━━━━╇━━━━━━━━━━━━━━━┩\n",
              "│ 21 │ quiz1.09 │ 1      │ Not Timed │ 1        │ NONE          │\n",
              "└────┴──────────┴────────┴───────────┴──────────┴───────────────┘\n"
            ],
            "text/html": [
              "<pre style=\"white-space:pre;overflow-x:auto;line-height:normal;font-family:Menlo,'DejaVu Sans Mono',consolas,'Courier New',monospace\">┏━━━━┳━━━━━━━━━━┳━━━━━━━━┳━━━━━━━━━━━┳━━━━━━━━━━┳━━━━━━━━━━━━━━━┓\n",
              "┃<span style=\"font-weight: bold\"> #  </span>┃<span style=\"font-weight: bold\"> Question </span>┃<span style=\"font-weight: bold\"> Points </span>┃<span style=\"font-weight: bold\"> Timeout   </span>┃<span style=\"font-weight: bold\"> Attempts </span>┃<span style=\"font-weight: bold\"> Prerequisites </span>┃\n",
              "┡━━━━╇━━━━━━━━━━╇━━━━━━━━╇━━━━━━━━━━━╇━━━━━━━━━━╇━━━━━━━━━━━━━━━┩\n",
              "│ 21 │ quiz1.09 │ 1      │ Not Timed │ 1        │ NONE          │\n",
              "└────┴──────────┴────────┴───────────┴──────────┴───────────────┘\n",
              "</pre>\n"
            ]
          },
          "metadata": {}
        },
        {
          "output_type": "display_data",
          "data": {
            "text/plain": [
              "TEXT:\n",
              "What is the two's compliment of \u001b[1;36m10101110\u001b[0m?\n",
              "\n",
              "Enter \u001b[32m\"print\u001b[0m\u001b[32m(\u001b[0m\u001b[32md.data\u001b[0m\u001b[32m(\u001b[0m\u001b[32m'Quiz1.09'\u001b[0m\u001b[32m)\u001b[0m\u001b[32m)\u001b[0m\u001b[32m\"\u001b[0m to view the choices. Submit the integer next to the correct choice. For example: \n",
              "\u001b[32m'd.answer\u001b[0m\u001b[32m(\u001b[0m\u001b[32m1\u001b[0m\u001b[32m)\u001b[0m\u001b[32m'\u001b[0m\n"
            ],
            "text/html": [
              "<pre style=\"white-space:pre;overflow-x:auto;line-height:normal;font-family:Menlo,'DejaVu Sans Mono',consolas,'Courier New',monospace\">TEXT:\n",
              "What is the two's compliment of <span style=\"color: #008080; text-decoration-color: #008080; font-weight: bold\">10101110</span>?\n",
              "\n",
              "Enter <span style=\"color: #008000; text-decoration-color: #008000\">\"print(d.data('Quiz1.09'))\"</span> to view the choices. Submit the integer next to the correct choice. For example: \n",
              "<span style=\"color: #008000; text-decoration-color: #008000\">'d.answer(1)'</span>\n",
              "</pre>\n"
            ]
          },
          "metadata": {}
        },
        {
          "output_type": "stream",
          "name": "stdout",
          "text": [
            "0) 10101111\n",
            "1) 01010011\n",
            "2) 10101110\n",
            "3) 01010010\n"
          ]
        }
      ],
      "source": [
        "#Ask for the question and data together to avoid confusion.\n",
        "qname = \"quiz1.09\"\n",
        "d.question(qname)\n",
        "print(d.data(qname))"
      ]
    },
    {
      "cell_type": "markdown",
      "metadata": {
        "id": "8nXC-8q21uHG"
      },
      "source": [
        "Carefully consider your answer. Remember, you get one attempt per question. When you are ready submit your answer.\n",
        "\n",
        "Note: the next cell is commented out so that you do not accidentally run it.  "
      ]
    },
    {
      "cell_type": "code",
      "source": [
        "binary = '10101110'\n",
        "\n",
        "inverted = ''\n",
        "for bit in binary:\n",
        "    if bit == '1':\n",
        "        inverted += '0'\n",
        "    else:\n",
        "        inverted += '1'\n",
        "print(\"inverted:\", inverted)\n",
        "\n",
        "invertedvalue = int(inverted, 2)\n",
        "twos_complement_value = invertedvalue + 1\n",
        "print(\"decimal of twos complement:\", twos_complement_value)\n",
        "\n",
        "twos_complement_binary = format(twos_complement_value, '08b')\n",
        "print(\"twos complement:\", twos_complement_binary)\n",
        "\n",
        "d.answer( 3 )"
      ],
      "metadata": {
        "id": "6RkzXbiW7Oa7",
        "outputId": "c7244ceb-0707-4e81-b99f-d41c43e86991",
        "colab": {
          "base_uri": "https://localhost:8080/",
          "height": 88
        }
      },
      "execution_count": 61,
      "outputs": [
        {
          "output_type": "stream",
          "name": "stdout",
          "text": [
            "inverted: 01010001\n",
            "decimal of twos complement: 82\n",
            "twos complement: 01010010\n"
          ]
        },
        {
          "output_type": "execute_result",
          "data": {
            "text/plain": [
              "'Correct!'"
            ],
            "application/vnd.google.colaboratory.intrinsic+json": {
              "type": "string"
            }
          },
          "metadata": {},
          "execution_count": 61
        }
      ]
    },
    {
      "cell_type": "code",
      "source": [
        "byte0a = int('00100000', 2)\n",
        "byte0b = int('10001010', 2)\n",
        "print(byte0a, byte0b)\n",
        "\n",
        "byte1a = int('00100000', 2)\n",
        "byte1b = int('00000010', 2)\n",
        "print(byte1a, byte1b)\n",
        "\n",
        "byte2a = int('00101101', 2)\n",
        "byte2b = int('01111110', 2)\n",
        "print(byte2a, byte2b)\n",
        "\n",
        "byte3a = int('01100001', 2)\n",
        "byte3b = int('01000000', 2)\n",
        "print(byte3a, byte3b)\n",
        "\n",
        "d.answer( 0 )"
      ],
      "metadata": {
        "id": "OLE7trAL6bxT",
        "outputId": "44bfb8ea-a9f0-4794-b98b-72eff385966b",
        "colab": {
          "base_uri": "https://localhost:8080/",
          "height": 105
        }
      },
      "execution_count": 55,
      "outputs": [
        {
          "output_type": "stream",
          "name": "stdout",
          "text": [
            "32 138\n",
            "32 2\n",
            "45 126\n",
            "97 64\n"
          ]
        },
        {
          "output_type": "execute_result",
          "data": {
            "text/plain": [
              "'Correct!'"
            ],
            "application/vnd.google.colaboratory.intrinsic+json": {
              "type": "string"
            }
          },
          "metadata": {},
          "execution_count": 55
        }
      ]
    },
    {
      "cell_type": "code",
      "source": [
        "big_number = 10 ** 100\n",
        "print(\"Choice 0:\", big_number)\n",
        "\n",
        "a = 100\n",
        "b = 100\n",
        "print(\"Choice 1 (100):\", a is b)\n",
        "\n",
        "x = 1000\n",
        "y = 1000\n",
        "print(\"Choice 1 (1000):\", x is y)\n",
        "\n",
        "big_32 = 2 ** 40\n",
        "print(\"Choice 2:\", big_32)\n",
        "\n",
        "m = int('300')\n",
        "n = int('300')\n",
        "print(\"Choice 3:\", m is n)\n",
        "\n",
        "d.answer( 1 )"
      ],
      "metadata": {
        "id": "g0LB9kQM3dui",
        "outputId": "8a11f191-a5fd-4f4d-ca93-468e7ea91cea",
        "colab": {
          "base_uri": "https://localhost:8080/",
          "height": 122
        }
      },
      "execution_count": 47,
      "outputs": [
        {
          "output_type": "stream",
          "name": "stdout",
          "text": [
            "Choice 0: 10000000000000000000000000000000000000000000000000000000000000000000000000000000000000000000000000000\n",
            "Choice 1 (100): True\n",
            "Choice 1 (1000): False\n",
            "Choice 2: 1099511627776\n",
            "Choice 3: False\n"
          ]
        },
        {
          "output_type": "execute_result",
          "data": {
            "text/plain": [
              "'Correct!'"
            ],
            "application/vnd.google.colaboratory.intrinsic+json": {
              "type": "string"
            }
          },
          "metadata": {},
          "execution_count": 47
        }
      ]
    },
    {
      "cell_type": "code",
      "source": [
        "binaryval_0 = int('11101101', 2)\n",
        "print(binary_val_0)\n",
        "\n",
        "hexval_1 = int('F1', 16)\n",
        "print(hex_val_1)\n",
        "\n",
        "octalval_2 = int('72', 8)\n",
        "print(octal_val_2)\n",
        "\n",
        "binaryval_3 = int('10101101', 2)\n",
        "print(binary_val_3)\n",
        "\n",
        "d.answer( 3 )"
      ],
      "metadata": {
        "id": "Dk0kSgwG25Yq",
        "outputId": "d66f0189-f519-4a23-8027-0a971be7e081",
        "colab": {
          "base_uri": "https://localhost:8080/",
          "height": 105
        }
      },
      "execution_count": 34,
      "outputs": [
        {
          "output_type": "stream",
          "name": "stdout",
          "text": [
            "237\n",
            "241\n",
            "58\n",
            "173\n"
          ]
        },
        {
          "output_type": "execute_result",
          "data": {
            "text/plain": [
              "'Correct!'"
            ],
            "application/vnd.google.colaboratory.intrinsic+json": {
              "type": "string"
            }
          },
          "metadata": {},
          "execution_count": 34
        }
      ]
    },
    {
      "cell_type": "code",
      "source": [
        "binary_string = 'xxoxxxox'\n",
        "fixed_binary = binary_string.replace('x', '1').replace('o', '0')\n",
        "print(\"Fixed binary:\", fixed_binary)\n",
        "\n",
        "value = int(fixed_binary, 2)\n",
        "print(\"Decimal value:\", value)\n",
        "\n",
        "d.answer( 0 )"
      ],
      "metadata": {
        "id": "8VcKbFZJ2tQS",
        "outputId": "b48e9ff8-bd17-428a-b168-fca1bc0ddddf",
        "colab": {
          "base_uri": "https://localhost:8080/",
          "height": 70
        }
      },
      "execution_count": 27,
      "outputs": [
        {
          "output_type": "stream",
          "name": "stdout",
          "text": [
            "Fixed binary: 11011101\n",
            "Decimal value: 221\n"
          ]
        },
        {
          "output_type": "execute_result",
          "data": {
            "text/plain": [
              "'Correct!'"
            ],
            "application/vnd.google.colaboratory.intrinsic+json": {
              "type": "string"
            }
          },
          "metadata": {},
          "execution_count": 27
        }
      ]
    },
    {
      "cell_type": "code",
      "source": [
        "binary_string = 'xoxxoxox'\n",
        "fixed_binary = binary_string.replace('x', '1').replace('o', '0')\n",
        "print(\"Fixed binary:\", fixed_binary)\n",
        "\n",
        "value = int(fixed_binary, 2)\n",
        "print(\"Decimal value:\", value)\n",
        "\n",
        "d.answer( 0 )"
      ],
      "metadata": {
        "id": "BvPzgRuF2ZgJ",
        "outputId": "5950b17c-3849-4392-f1e2-0b86076b0831",
        "colab": {
          "base_uri": "https://localhost:8080/",
          "height": 70
        }
      },
      "execution_count": 24,
      "outputs": [
        {
          "output_type": "stream",
          "name": "stdout",
          "text": [
            "Fixed binary: 10110101\n",
            "Decimal value: 181\n"
          ]
        },
        {
          "output_type": "execute_result",
          "data": {
            "text/plain": [
              "'Correct!'"
            ],
            "application/vnd.google.colaboratory.intrinsic+json": {
              "type": "string"
            }
          },
          "metadata": {},
          "execution_count": 24
        }
      ]
    },
    {
      "cell_type": "code",
      "execution_count": 19,
      "metadata": {
        "id": "0c7FtJ7z1uHG",
        "outputId": "3cafc60b-75bf-496c-fd02-84c22346db76",
        "colab": {
          "base_uri": "https://localhost:8080/",
          "height": 53
        }
      },
      "outputs": [
        {
          "output_type": "stream",
          "name": "stdout",
          "text": [
            "Answer: NO\n"
          ]
        },
        {
          "output_type": "execute_result",
          "data": {
            "text/plain": [
              "'Correct!Already Scored'"
            ],
            "application/vnd.google.colaboratory.intrinsic+json": {
              "type": "string"
            }
          },
          "metadata": {},
          "execution_count": 19
        }
      ],
      "source": [
        "b1 = int('11000010', 2)\n",
        "b2 = int('10101110', 2)\n",
        "b3 = int('10000001', 2)\n",
        "b4 = int('01000010', 2)\n",
        "\n",
        "bytesequence = bytes([b1, b2, b3, b4])\n",
        "\n",
        "valid_utf8 = True\n",
        "\n",
        "try:\n",
        "    decoded = bytesequence.decode('utf-8')\n",
        "except UnicodeDecodeError:\n",
        "    valid_utf8 = False\n",
        "\n",
        "if valid_utf8:\n",
        "    print(\"Answer: YES\")\n",
        "    #d.answer(0)\n",
        "else:\n",
        "    print(\"Answer: NO\")\n",
        "    #d.answer(1)\n",
        "\n",
        "d.answer( 0 )"
      ]
    }
  ],
  "metadata": {
    "colab": {
      "provenance": []
    },
    "kernelspec": {
      "display_name": "Python 3",
      "name": "python3"
    },
    "language_info": {
      "name": "python"
    }
  },
  "nbformat": 4,
  "nbformat_minor": 0
}